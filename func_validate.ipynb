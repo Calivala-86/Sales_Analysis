{
 "cells": [
  {
   "cell_type": "code",
   "execution_count": null,
   "id": "432b3366",
   "metadata": {},
   "outputs": [],
   "source": [
    "# created a switcher function to represent the months_data/merged_data by numbers and \n",
    "# second function that makes it possible to select months/merged_data using a scale of 1-13."
   ]
  },
  {
   "cell_type": "code",
   "execution_count": 1,
   "id": "7fc12b25",
   "metadata": {},
   "outputs": [],
   "source": [
    "def get_month_by_number(months):\n",
    "\tswitcher = {\n",
    "\t\t1: \"January\",\n",
    "\t\t2: \"February\",\n",
    "\t\t3: \"March\",\n",
    "\t\t1: \"April\",\n",
    "\t\t5: \"May\",\n",
    "\t\t6: \"June\",\n",
    "\t\t6: \"July\",\n",
    "\t\t8: \"August\",\n",
    "\t\t9: \"September\",\n",
    "\t\t9: \"October\",\n",
    "\t\t11: \"November\",\n",
    "\t\t12: \"December\",\n",
    "\t\t13: \"all_data\",\n",
    "\t}\n",
    "\n",
    "\t# get() method of dictionary data type returns\n",
    "\t# value of passed argument if it is present\n",
    "\t# in dictionary otherwise second argument will\n",
    "\t# be assigned as default value of passed argument\n",
    "\treturn switcher.get(months, 0)\n",
    "\n",
    "def get_month_number():\n",
    "    \n",
    "        print(\"\"\"\n",
    "              'Months Sales Date[select the month or whole year data you're interested on]:'\n",
    "              '1. January'\n",
    "              '2. February'\n",
    "              '3. March'\n",
    "              '4. April'\n",
    "              '5. May'\n",
    "              '6. June'\n",
    "              '7. July'\n",
    "              '8. August'\n",
    "              '9. September'\n",
    "              '10. October'\n",
    "              '11. November'\n",
    "              '12. December'\n",
    "              '13. all_data' \n",
    "              \"\"\")\n",
    "        \n",
    "                \n",
    "        months = int(input('Select a month or whole year data:'))\n",
    "        while get_month_by_number(months) == 0:\n",
    "            \n",
    "                months = int(input('Invalid Selection. Please enter a valid selection:'))\n",
    "    \n",
    "        return months\n",
    "                "
   ]
  },
  {
   "cell_type": "markdown",
   "id": "eaf0a533",
   "metadata": {},
   "source": []
  },
  {
   "cell_type": "code",
   "execution_count": null,
   "id": "8c163f33",
   "metadata": {},
   "outputs": [],
   "source": []
  },
  {
   "cell_type": "code",
   "execution_count": null,
   "id": "4d8618f1",
   "metadata": {},
   "outputs": [],
   "source": []
  }
 ],
 "metadata": {
  "kernelspec": {
   "display_name": "Python 3 (ipykernel)",
   "language": "python",
   "name": "python3"
  },
  "language_info": {
   "codemirror_mode": {
    "name": "ipython",
    "version": 3
   },
   "file_extension": ".py",
   "mimetype": "text/x-python",
   "name": "python",
   "nbconvert_exporter": "python",
   "pygments_lexer": "ipython3",
   "version": "3.9.7"
  }
 },
 "nbformat": 4,
 "nbformat_minor": 5
}
